{
 "cells": [
  {
   "cell_type": "code",
   "execution_count": 2,
   "id": "6857c727",
   "metadata": {},
   "outputs": [],
   "source": [
    "import numpy as np\n",
    "import matplotlib.pyplot as plt\n",
    "import pandas as pd\n",
    "import seaborn as sns"
   ]
  },
  {
   "cell_type": "code",
   "execution_count": 3,
   "id": "5a791fa6",
   "metadata": {},
   "outputs": [],
   "source": [
    "def normalization(z):\n",
    "  \"\"\"\n",
    "  Funcion sigmoid para normalizar dato de entrada.\n",
    "  \"\"\"\n",
    "  return 1 / (1 + np.exp(-z))"
   ]
  },
  {
   "cell_type": "code",
   "execution_count": 4,
   "id": "1b27ded4",
   "metadata": {},
   "outputs": [],
   "source": [
    "def costo(x, y, theta):\n",
    "  \"\"\"\n",
    "  Funcion de costo para regresion logistica.\n",
    "  \"\"\"\n",
    "  h = normalization(np.dot(theta.T, x))\n",
    "  if y == 1:\n",
    "    return -np.log(h)\n",
    "  elif y == 0:\n",
    "    return -np.log(1 - h)\n",
    "  else:\n",
    "    raise ValueError(\"La etiqueta y debe ser 0 o 1.\")"
   ]
  },
  {
   "cell_type": "code",
   "execution_count": 5,
   "id": "70822ecd",
   "metadata": {},
   "outputs": [],
   "source": [
    "def gradiente_descendiente(x, y, theta, alpha, num_iters):\n",
    "  \"\"\"\n",
    "  Funcion de gradiente descendiente para optimizar los parametros theta.\n",
    "  \"\"\"\n",
    "  m = x.shape[1]  # número de ejemplos\n",
    "\n",
    "  for _ in range(num_iters):\n",
    "    Z = np.dot(theta.T, x)\n",
    "    H = normalization(Z)\n",
    "    gradiente = (1/m) * np.dot(x, (H - y).T)\n",
    "    theta = theta - alpha * gradiente\n",
    "  return theta\n"
   ]
  },
  {
   "cell_type": "code",
   "execution_count": 6,
   "id": "de8306be",
   "metadata": {},
   "outputs": [],
   "source": [
    "df_train = pd.read_csv('proteins_training_set.csv')\n",
    "X = df_train.drop(columns=['start_position', 'end_position', 'target']).values.T\n",
    "Y = df_train['target'].values.reshape(1, -1)\n",
    "X = np.vstack([np.ones((1, X.shape[1])), X])"
   ]
  },
  {
   "cell_type": "code",
   "execution_count": 7,
   "id": "ca77dc82",
   "metadata": {},
   "outputs": [],
   "source": [
    "n = X.shape[0]\n",
    "theta = np.zeros((n, 1))\n",
    "alpha = 0.01\n",
    "epochs = 1000\n",
    "\n",
    "def normalization(z):\n",
    "    return 1 / (1 + np.exp(-z))\n",
    "\n",
    "def gradiente_descendente(X, Y, theta, alpha, epochs):\n",
    "  m = X.shape[1]\n",
    "  for _ in range(epochs):\n",
    "    Z = np.dot(theta.T, X)\n",
    "    H = normalization(Z)\n",
    "    gradiente = (1/m) * np.dot(X, (H - Y).T)\n",
    "    theta = theta - alpha * gradiente\n",
    "  return theta\n",
    "\n",
    "# Entrenar\n",
    "theta = gradiente_descendente(X, Y, theta, alpha, epochs)"
   ]
  },
  {
   "cell_type": "code",
   "execution_count": 8,
   "id": "53fe9c45",
   "metadata": {},
   "outputs": [],
   "source": [
    "def predecir (x, theta):\n",
    "  \"\"\"\n",
    "  Funcion de prediccion para clasificacion binaria.\n",
    "  \"\"\"\n",
    "  probs = normalization(np.dot(theta.T, X))\n",
    "  return (probs >= 0.5).astype(int)"
   ]
  },
  {
   "cell_type": "code",
   "execution_count": 9,
   "id": "aacfc8a8",
   "metadata": {},
   "outputs": [],
   "source": [
    "df_val = pd.read_csv('proteins_validation_set.csv')\n",
    "X_val = df_val.drop(columns=['start_position', 'end_position', 'target']).values.T\n",
    "Y_val = df_val['target'].values.reshape(1, -1)\n",
    "X_val = np.vstack([np.ones((1, X_val.shape[1])), X_val])"
   ]
  },
  {
   "cell_type": "code",
   "execution_count": 10,
   "id": "ed75e4d6",
   "metadata": {},
   "outputs": [
    {
     "ename": "ValueError",
     "evalue": "operands could not be broadcast together with shapes (1,9204) (1,2303) ",
     "output_type": "error",
     "traceback": [
      "\u001b[1;31m---------------------------------------------------------------------------\u001b[0m",
      "\u001b[1;31mValueError\u001b[0m                                Traceback (most recent call last)",
      "Cell \u001b[1;32mIn[10], line 2\u001b[0m\n\u001b[0;32m      1\u001b[0m Y_pred_val \u001b[38;5;241m=\u001b[39m predecir(X_val, theta)\n\u001b[1;32m----> 2\u001b[0m accuracy_val \u001b[38;5;241m=\u001b[39m np\u001b[38;5;241m.\u001b[39mmean(Y_pred_val \u001b[38;5;241m==\u001b[39m Y_val)\n\u001b[0;32m      3\u001b[0m \u001b[38;5;28mprint\u001b[39m(\u001b[38;5;124mf\u001b[39m\u001b[38;5;124m\"\u001b[39m\u001b[38;5;124mPrecisión en validación: \u001b[39m\u001b[38;5;132;01m{\u001b[39;00maccuracy_val\u001b[38;5;250m \u001b[39m\u001b[38;5;241m*\u001b[39m\u001b[38;5;250m \u001b[39m\u001b[38;5;241m100\u001b[39m\u001b[38;5;132;01m:\u001b[39;00m\u001b[38;5;124m.2f\u001b[39m\u001b[38;5;132;01m}\u001b[39;00m\u001b[38;5;124m%\u001b[39m\u001b[38;5;124m\"\u001b[39m)\n",
      "\u001b[1;31mValueError\u001b[0m: operands could not be broadcast together with shapes (1,9204) (1,2303) "
     ]
    }
   ],
   "source": [
    "Y_pred_val = predecir(X_val, theta)\n",
    "accuracy_val = np.mean(Y_pred_val == Y_val)\n",
    "print(f\"Precisión en validación: {accuracy_val * 100:.2f}%\")"
   ]
  },
  {
   "cell_type": "code",
   "execution_count": null,
   "id": "d2928e49",
   "metadata": {},
   "outputs": [],
   "source": []
  }
 ],
 "metadata": {
  "kernelspec": {
   "display_name": "base",
   "language": "python",
   "name": "python3"
  },
  "language_info": {
   "codemirror_mode": {
    "name": "ipython",
    "version": 3
   },
   "file_extension": ".py",
   "mimetype": "text/x-python",
   "name": "python",
   "nbconvert_exporter": "python",
   "pygments_lexer": "ipython3",
   "version": "3.12.7"
  }
 },
 "nbformat": 4,
 "nbformat_minor": 5
}
